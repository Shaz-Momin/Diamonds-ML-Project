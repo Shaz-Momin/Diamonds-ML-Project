{
  "cells": [
    {
      "cell_type": "markdown",
      "metadata": {
        "id": "view-in-github",
        "colab_type": "text"
      },
      "source": [
        "<a href=\"https://colab.research.google.com/github/Shaz-Momin/Diamonds-ML-Project/blob/main/ML_Project.ipynb\" target=\"_parent\"><img src=\"https://colab.research.google.com/assets/colab-badge.svg\" alt=\"Open In Colab\"/></a>"
      ]
    },
    {
      "cell_type": "markdown",
      "metadata": {
        "id": "yvOrgHWGC3Je"
      },
      "source": [
        "# ML Project: Diamonds"
      ]
    },
    {
      "cell_type": "markdown",
      "metadata": {
        "id": "SzuFMaZmDHU2"
      },
      "source": [
        "Team Members: Ankit Bhattacharyya, Shaz Momin, Rayan Ali, Hussain Murtaza "
      ]
    },
    {
      "cell_type": "code",
      "execution_count": null,
      "metadata": {
        "colab": {
          "base_uri": "https://localhost:8080/"
        },
        "id": "1YW4ylrtCs9I",
        "outputId": "7e128c58-a239-4533-d230-94c81c2f89a6"
      },
      "outputs": [
        {
          "output_type": "stream",
          "name": "stdout",
          "text": [
            "Drive already mounted at /drive; to attempt to forcibly remount, call drive.mount(\"/drive\", force_remount=True).\n"
          ]
        }
      ],
      "source": [
        "# Standard Headers\n",
        "import pandas as pd\n",
        "import sklearn\n",
        "import numpy as np\n",
        "import math\n",
        "import matplotlib.pyplot as plt\n",
        "from sklearn.model_selection import train_test_split\n",
        "from sklearn.model_selection import cross_val_score\n",
        "from sklearn.model_selection import GridSearchCV\n",
        "from sklearn.metrics import r2_score\n",
        "from sklearn.metrics import accuracy_score\n",
        "import sklearn.metrics as metrics\n",
        "from sklearn.preprocessing import StandardScaler\n",
        "from sklearn.decomposition import PCA\n",
        "from sklearn.pipeline import Pipeline\n",
        "import warnings\n",
        "warnings.simplefilter(\"ignore\")\n",
        "\n",
        "# For reading file from drive\n",
        "from google.colab import drive\n",
        "drive.mount('/drive')"
      ]
    },
    {
      "cell_type": "code",
      "execution_count": null,
      "metadata": {
        "colab": {
          "base_uri": "https://localhost:8080/",
          "height": 206
        },
        "id": "iXMes7qvEVaQ",
        "outputId": "b9e1d668-d6e8-448a-f97d-83d16569ba77"
      },
      "outputs": [
        {
          "output_type": "execute_result",
          "data": {
            "text/plain": [
              "   carat         cut color clarity  depth  table  price   'x'   'y'   'z'\n",
              "0   0.23    b'Ideal'  b'E'  b'SI2'   61.5   55.0  326.0  3.95  3.98  2.43\n",
              "1   0.21  b'Premium'  b'E'  b'SI1'   59.8   61.0  326.0  3.89  3.84  2.31\n",
              "2   0.23     b'Good'  b'E'  b'VS1'   56.9   65.0  327.0  4.05  4.07  2.31\n",
              "3   0.29  b'Premium'  b'I'  b'VS2'   62.4   58.0  334.0  4.20  4.23  2.63\n",
              "4   0.31     b'Good'  b'J'  b'SI2'   63.3   58.0  335.0  4.34  4.35  2.75"
            ],
            "text/html": [
              "\n",
              "  <div id=\"df-868fe9a0-c6de-48e6-96ed-b219400b62e0\">\n",
              "    <div class=\"colab-df-container\">\n",
              "      <div>\n",
              "<style scoped>\n",
              "    .dataframe tbody tr th:only-of-type {\n",
              "        vertical-align: middle;\n",
              "    }\n",
              "\n",
              "    .dataframe tbody tr th {\n",
              "        vertical-align: top;\n",
              "    }\n",
              "\n",
              "    .dataframe thead th {\n",
              "        text-align: right;\n",
              "    }\n",
              "</style>\n",
              "<table border=\"1\" class=\"dataframe\">\n",
              "  <thead>\n",
              "    <tr style=\"text-align: right;\">\n",
              "      <th></th>\n",
              "      <th>carat</th>\n",
              "      <th>cut</th>\n",
              "      <th>color</th>\n",
              "      <th>clarity</th>\n",
              "      <th>depth</th>\n",
              "      <th>table</th>\n",
              "      <th>price</th>\n",
              "      <th>'x'</th>\n",
              "      <th>'y'</th>\n",
              "      <th>'z'</th>\n",
              "    </tr>\n",
              "  </thead>\n",
              "  <tbody>\n",
              "    <tr>\n",
              "      <th>0</th>\n",
              "      <td>0.23</td>\n",
              "      <td>b'Ideal'</td>\n",
              "      <td>b'E'</td>\n",
              "      <td>b'SI2'</td>\n",
              "      <td>61.5</td>\n",
              "      <td>55.0</td>\n",
              "      <td>326.0</td>\n",
              "      <td>3.95</td>\n",
              "      <td>3.98</td>\n",
              "      <td>2.43</td>\n",
              "    </tr>\n",
              "    <tr>\n",
              "      <th>1</th>\n",
              "      <td>0.21</td>\n",
              "      <td>b'Premium'</td>\n",
              "      <td>b'E'</td>\n",
              "      <td>b'SI1'</td>\n",
              "      <td>59.8</td>\n",
              "      <td>61.0</td>\n",
              "      <td>326.0</td>\n",
              "      <td>3.89</td>\n",
              "      <td>3.84</td>\n",
              "      <td>2.31</td>\n",
              "    </tr>\n",
              "    <tr>\n",
              "      <th>2</th>\n",
              "      <td>0.23</td>\n",
              "      <td>b'Good'</td>\n",
              "      <td>b'E'</td>\n",
              "      <td>b'VS1'</td>\n",
              "      <td>56.9</td>\n",
              "      <td>65.0</td>\n",
              "      <td>327.0</td>\n",
              "      <td>4.05</td>\n",
              "      <td>4.07</td>\n",
              "      <td>2.31</td>\n",
              "    </tr>\n",
              "    <tr>\n",
              "      <th>3</th>\n",
              "      <td>0.29</td>\n",
              "      <td>b'Premium'</td>\n",
              "      <td>b'I'</td>\n",
              "      <td>b'VS2'</td>\n",
              "      <td>62.4</td>\n",
              "      <td>58.0</td>\n",
              "      <td>334.0</td>\n",
              "      <td>4.20</td>\n",
              "      <td>4.23</td>\n",
              "      <td>2.63</td>\n",
              "    </tr>\n",
              "    <tr>\n",
              "      <th>4</th>\n",
              "      <td>0.31</td>\n",
              "      <td>b'Good'</td>\n",
              "      <td>b'J'</td>\n",
              "      <td>b'SI2'</td>\n",
              "      <td>63.3</td>\n",
              "      <td>58.0</td>\n",
              "      <td>335.0</td>\n",
              "      <td>4.34</td>\n",
              "      <td>4.35</td>\n",
              "      <td>2.75</td>\n",
              "    </tr>\n",
              "  </tbody>\n",
              "</table>\n",
              "</div>\n",
              "      <button class=\"colab-df-convert\" onclick=\"convertToInteractive('df-868fe9a0-c6de-48e6-96ed-b219400b62e0')\"\n",
              "              title=\"Convert this dataframe to an interactive table.\"\n",
              "              style=\"display:none;\">\n",
              "        \n",
              "  <svg xmlns=\"http://www.w3.org/2000/svg\" height=\"24px\"viewBox=\"0 0 24 24\"\n",
              "       width=\"24px\">\n",
              "    <path d=\"M0 0h24v24H0V0z\" fill=\"none\"/>\n",
              "    <path d=\"M18.56 5.44l.94 2.06.94-2.06 2.06-.94-2.06-.94-.94-2.06-.94 2.06-2.06.94zm-11 1L8.5 8.5l.94-2.06 2.06-.94-2.06-.94L8.5 2.5l-.94 2.06-2.06.94zm10 10l.94 2.06.94-2.06 2.06-.94-2.06-.94-.94-2.06-.94 2.06-2.06.94z\"/><path d=\"M17.41 7.96l-1.37-1.37c-.4-.4-.92-.59-1.43-.59-.52 0-1.04.2-1.43.59L10.3 9.45l-7.72 7.72c-.78.78-.78 2.05 0 2.83L4 21.41c.39.39.9.59 1.41.59.51 0 1.02-.2 1.41-.59l7.78-7.78 2.81-2.81c.8-.78.8-2.07 0-2.86zM5.41 20L4 18.59l7.72-7.72 1.47 1.35L5.41 20z\"/>\n",
              "  </svg>\n",
              "      </button>\n",
              "      \n",
              "  <style>\n",
              "    .colab-df-container {\n",
              "      display:flex;\n",
              "      flex-wrap:wrap;\n",
              "      gap: 12px;\n",
              "    }\n",
              "\n",
              "    .colab-df-convert {\n",
              "      background-color: #E8F0FE;\n",
              "      border: none;\n",
              "      border-radius: 50%;\n",
              "      cursor: pointer;\n",
              "      display: none;\n",
              "      fill: #1967D2;\n",
              "      height: 32px;\n",
              "      padding: 0 0 0 0;\n",
              "      width: 32px;\n",
              "    }\n",
              "\n",
              "    .colab-df-convert:hover {\n",
              "      background-color: #E2EBFA;\n",
              "      box-shadow: 0px 1px 2px rgba(60, 64, 67, 0.3), 0px 1px 3px 1px rgba(60, 64, 67, 0.15);\n",
              "      fill: #174EA6;\n",
              "    }\n",
              "\n",
              "    [theme=dark] .colab-df-convert {\n",
              "      background-color: #3B4455;\n",
              "      fill: #D2E3FC;\n",
              "    }\n",
              "\n",
              "    [theme=dark] .colab-df-convert:hover {\n",
              "      background-color: #434B5C;\n",
              "      box-shadow: 0px 1px 3px 1px rgba(0, 0, 0, 0.15);\n",
              "      filter: drop-shadow(0px 1px 2px rgba(0, 0, 0, 0.3));\n",
              "      fill: #FFFFFF;\n",
              "    }\n",
              "  </style>\n",
              "\n",
              "      <script>\n",
              "        const buttonEl =\n",
              "          document.querySelector('#df-868fe9a0-c6de-48e6-96ed-b219400b62e0 button.colab-df-convert');\n",
              "        buttonEl.style.display =\n",
              "          google.colab.kernel.accessAllowed ? 'block' : 'none';\n",
              "\n",
              "        async function convertToInteractive(key) {\n",
              "          const element = document.querySelector('#df-868fe9a0-c6de-48e6-96ed-b219400b62e0');\n",
              "          const dataTable =\n",
              "            await google.colab.kernel.invokeFunction('convertToInteractive',\n",
              "                                                     [key], {});\n",
              "          if (!dataTable) return;\n",
              "\n",
              "          const docLinkHtml = 'Like what you see? Visit the ' +\n",
              "            '<a target=\"_blank\" href=https://colab.research.google.com/notebooks/data_table.ipynb>data table notebook</a>'\n",
              "            + ' to learn more about interactive tables.';\n",
              "          element.innerHTML = '';\n",
              "          dataTable['output_type'] = 'display_data';\n",
              "          await google.colab.output.renderOutput(dataTable, element);\n",
              "          const docLink = document.createElement('div');\n",
              "          docLink.innerHTML = docLinkHtml;\n",
              "          element.appendChild(docLink);\n",
              "        }\n",
              "      </script>\n",
              "    </div>\n",
              "  </div>\n",
              "  "
            ]
          },
          "metadata": {},
          "execution_count": 13
        }
      ],
      "source": [
        "df = pd.read_csv('/drive/My Drive/Colab Notebooks/CS 363M/Project/diamonds.csv')\n",
        "# df = pd.read_csv('diamonds.csv')\n",
        "df.head()"
      ]
    },
    {
      "cell_type": "markdown",
      "metadata": {
        "id": "iwLclJlpGVTg"
      },
      "source": [
        "# Data Cleaning/Exploration"
      ]
    },
    {
      "cell_type": "markdown",
      "metadata": {
        "id": "NCCy_1aUHlgp"
      },
      "source": [
        "The dataset documentation mentioned that there were several duplicate entries where the same diamond was measured from different angles. To remove these, we took a look at angle independent attributes (carat, cut, clarity, price, color) for duplicates."
      ]
    },
    {
      "cell_type": "code",
      "execution_count": null,
      "metadata": {
        "colab": {
          "base_uri": "https://localhost:8080/"
        },
        "id": "ruWj0c5qGX06",
        "outputId": "a91f8752-c105-4397-887f-e29b54e9a72c"
      },
      "outputs": [
        {
          "output_type": "stream",
          "name": "stdout",
          "text": [
            "(39756, 10)\n"
          ]
        }
      ],
      "source": [
        "# Removing duplicates\n",
        "subset = ['carat','cut','clarity', 'price','color']\n",
        "df.drop_duplicates(subset, inplace=True)\n",
        "print(df.shape)\n",
        "\n",
        "# DATA EXPLORATION - Through various modeling techniques we figured out that we\n",
        "# get strong positive R2 scores when we split the data into train and test sets but when we\n",
        "# use the entire dataset and perform the cross-validation with 'cross_val_score', \n",
        "# we got a range of negative and low correlative R2 scores.\n",
        "# This is because the diamonds data is initially presented in sorted\n",
        "# order. Therefore, when a test set was set aside it contained many diamonds with similar values.\n",
        "# This caused the trained model to score poorly on testing data because it had not seen\n",
        "# datapoints like those in the test set before.\n",
        "# In order to fix this issue and shuffle records around, we are sampling\n",
        "# the dataframe below so that the data is randomized.\n",
        "df = df.sample(frac=1)"
      ]
    },
    {
      "cell_type": "markdown",
      "metadata": {
        "id": "UrUTMv7tZZqh"
      },
      "source": [
        "# Feature Engineering"
      ]
    },
    {
      "cell_type": "code",
      "execution_count": null,
      "metadata": {
        "id": "1aqwfZW2IH1n"
      },
      "outputs": [],
      "source": [
        "from sklearn.preprocessing import OrdinalEncoder\n",
        "\n",
        "# Ordinal Encoding on a scale\n",
        "ordinal_reg = OrdinalEncoder(categories=[['b\\'Fair\\'','b\\'Good\\'', 'b\\'Ideal\\'', 'b\\'Premium\\'', 'b\\'Very Good\\''], \n",
        "                                ['b\\'J\\'', 'b\\'I\\'', 'b\\'H\\'', 'b\\'G\\'', 'b\\'F\\'', 'b\\'E\\'', 'b\\'D\\''],\n",
        "                                ['b\\'I1\\'','b\\'SI2\\'', 'b\\'SI1\\'', 'b\\'VS2\\'', 'b\\'VS1\\'', 'b\\'VVS2\\'', 'b\\'VVS1\\'', 'b\\'IF\\'']])\n",
        "\n",
        "ordinal_class = OrdinalEncoder(categories=[ \n",
        "                                ['b\\'J\\'', 'b\\'I\\'', 'b\\'H\\'', 'b\\'G\\'', 'b\\'F\\'', 'b\\'E\\'', 'b\\'D\\''],\n",
        "                                ['b\\'I1\\'','b\\'SI2\\'', 'b\\'SI1\\'', 'b\\'VS2\\'', 'b\\'VS1\\'', 'b\\'VVS2\\'', 'b\\'VVS1\\'', 'b\\'IF\\'']])\n",
        "\n",
        "df_reg = df.copy()\n",
        "df_reg[['cut','color','clarity']] = ordinal_reg.fit_transform(df_reg[['cut','color','clarity']])\n",
        "\n",
        "df_class = df.copy()\n",
        "df_class[['color','clarity']] = ordinal_class.fit_transform(df_class[['color','clarity']])"
      ]
    },
    {
      "cell_type": "markdown",
      "metadata": {
        "id": "kw0_-kAsJJvj"
      },
      "source": [
        "# Data Modeling\n",
        "We are using 'price' as a class feature where we are trying to figure out how other features like carat, cut, clarity, color, x_fracture, y_fracture, z_fracture, and depth of the diamond can be use to predict the price.\n",
        "In order to further this idea, we will be implementing supervised learning to predict the price of the diamond and unsupervised learning to classify the cut of the dimaond based on other features."
      ]
    },
    {
      "cell_type": "markdown",
      "metadata": {
        "id": "HXo1bxxJIFPI"
      },
      "source": [
        "## Regression Model"
      ]
    },
    {
      "cell_type": "markdown",
      "metadata": {
        "id": "HuyIUg5ciOb-"
      },
      "source": [
        "First, we start by checking whether any of the individual features correlate very strongly with the label ('price')"
      ]
    },
    {
      "cell_type": "code",
      "execution_count": null,
      "metadata": {
        "colab": {
          "base_uri": "https://localhost:8080/"
        },
        "id": "aWokaSMDiQW5",
        "outputId": "7ac2c6a8-4f1e-4d23-83a1-fa0ed35b19b5"
      },
      "outputs": [
        {
          "data": {
            "text/plain": [
              "carat      0.911056\n",
              "cut        0.041378\n",
              "color     -0.148372\n",
              "clarity   -0.096622\n",
              "depth     -0.008171\n",
              "table      0.093227\n",
              "price      1.000000\n",
              "'x'        0.876477\n",
              "'y'        0.855609\n",
              "'z'        0.845367\n",
              "Name: price, dtype: float64"
            ]
          },
          "execution_count": 5,
          "metadata": {},
          "output_type": "execute_result"
        }
      ],
      "source": [
        "# Shaz\n",
        "from sklearn.linear_model import LinearRegression\n",
        "\n",
        "df_reg.corr()['price'] # Price highly correlates with carat (0.911056)\n",
        "# We also get the x_fracture, y-fracture, and z-fracture of the diamond\n",
        "# correlating with the price however, in this case, the correlation \n",
        "# does not infer causation since these features are available in all\n",
        "# types of carats that the diamond is available and does not necessarily\n",
        "# contribute to the price"
      ]
    },
    {
      "cell_type": "markdown",
      "metadata": {
        "id": "PAM_RTrmkPL8"
      },
      "source": [
        "Since 'carat' feature relates the most, we are performing a simple Linear Regression Model to predict price from carat:\n",
        "\n"
      ]
    },
    {
      "cell_type": "code",
      "execution_count": null,
      "metadata": {
        "colab": {
          "base_uri": "https://localhost:8080/",
          "height": 591
        },
        "id": "46c8pDQhk0x_",
        "outputId": "8c4c84d0-8741-49d9-fbcc-e7680177fa8e"
      },
      "outputs": [
        {
          "name": "stdout",
          "output_type": "stream",
          "text": [
            "records in training set: x  31804  | y  31804\n",
            "records in test set: x  7952  | y  7952\n",
            "\n",
            "Mean Absolute Error (MAE):  1181.2994255889791\n",
            "\tIn this context, MAE tells us that we are about $1150 off on average based on the best fit predicted line\n",
            "Mean Squared Error (MSE):  3074006.8140162444\n",
            "Root Mean Squared Error (RMSE):  1753.2845787310869\n",
            "R2 Score:  0.8307001186938031\n",
            "\n"
          ]
        },
        {
          "data": {
            "image/png": "[encoded data removed]",
            "text/plain": [
              "<Figure size 640x480 with 1 Axes>"
            ]
          },
          "metadata": {},
          "output_type": "display_data"
        }
      ],
      "source": [
        "# predicting price from carat\n",
        "x = df_reg['carat']\n",
        "y = df_reg['price']\n",
        "x = x.values.reshape(-1, 1)\n",
        "y = y.values.reshape(-1, 1)\n",
        "\n",
        "# splitting (train & test)\n",
        "x_train, x_test, y_train, y_test = train_test_split(x, y, test_size=0.2, random_state=21)\n",
        "print(\"records in training set: x \", len(x_train), \" | y \", len(y_train))\n",
        "print(\"records in test set: x \", len(x_test), \" | y \", len(y_test), end='\\n\\n')\n",
        "\n",
        "# fitting the set\n",
        "lr = LinearRegression().fit(x_train, y_train)\n",
        "''' print(\"slope: \", lr.coef_[0][0])\n",
        "print(\"intercept: \", lr.intercept_[0], end='\\n\\n') '''\n",
        "\n",
        "# Plotting the best fit line\n",
        "pred = lr.predict(x_test)\n",
        "plt.scatter(x_test, y_test)\n",
        "plt.plot(x_test, pred, color='red')\n",
        "\n",
        "# Using cross-validation to check R2\n",
        "''' sampled_data = f_reg.sample(frac=1)\n",
        "sampled_x = sampled_data['carat'].array.reshape(-1, 1)\n",
        "sampled_y = sampled_data['price'] '''\n",
        "r2Arr = cross_val_score(LinearRegression(), x, y)\n",
        "print('Mean Absolute Error (MAE): ', metrics.mean_absolute_error(y_test, pred))\n",
        "print(\"\\tIn this context, MAE tells us that we are about $1150 off on average based on the best fit predicted line\")\n",
        "print('Mean Squared Error (MSE): ', metrics.mean_squared_error(y_test, pred))\n",
        "print('Root Mean Squared Error (RMSE): ', metrics.mean_squared_error(y_test, pred, squared=False))\n",
        "print('R2 Score: ', metrics.r2_score(y_test, pred), end='\\n\\n') # Pretty high, model fits the data well"
      ]
    },
    {
      "cell_type": "markdown",
      "metadata": {
        "id": "hQCDP3ALyiAW"
      },
      "source": [
        "Multiple Linear Regression:"
      ]
    },
    {
      "cell_type": "code",
      "execution_count": null,
      "metadata": {
        "colab": {
          "base_uri": "https://localhost:8080/"
        },
        "id": "Rnn33K43yk1Q",
        "outputId": "0ef7f72e-bb97-4733-9962-54736f3e8e2f"
      },
      "outputs": [
        {
          "name": "stdout",
          "output_type": "stream",
          "text": [
            "[0.87740518 0.90183615 0.90379132 0.8905613  0.90611226]\n",
            "Avg R2:  0.8959412410493182\n"
          ]
        }
      ],
      "source": [
        "# Multiple linear regression\n",
        "x = df_reg.loc[:,df_reg.columns != 'price']\n",
        "r2Arr = cross_val_score(LinearRegression(), x, y, scoring='r2')\n",
        "print(r2Arr)\n",
        "avgR2 = np.average(r2Arr)\n",
        "print(\"Avg R2: \", avgR2)"
      ]
    },
    {
      "cell_type": "code",
      "execution_count": null,
      "metadata": {
        "colab": {
          "base_uri": "https://localhost:8080/"
        },
        "id": "uPtn5yFV7Rmc",
        "outputId": "f19a43c2-dd54-414d-8517-c9a3b4685735"
      },
      "outputs": [
        {
          "name": "stdout",
          "output_type": "stream",
          "text": [
            "Coefficients:  [[ 1.02880764e+04  6.70791848e+01  3.62633019e+02  5.93495897e+02\n",
            "  -1.06263411e+02 -7.51654526e+01 -5.86227674e+02  5.41090376e+01\n",
            "  -8.54519170e+00]]\n",
            "Intercept:  [6414.31166198]\n"
          ]
        }
      ],
      "source": [
        "# Final model on the entire dataset\n",
        "regFinal = LinearRegression().fit(x, y)\n",
        "print(\"Coefficients: \", regFinal.coef_)\n",
        "print(\"Intercept: \", regFinal.intercept_)"
      ]
    },
    {
      "cell_type": "markdown",
      "metadata": {
        "id": "XNCOO31Z42wu"
      },
      "source": [
        "In this sense, we got a higher average R2 value when we ran cross validation\n",
        "futher affirming the 'carat' feature's contribution to the price of the diamond"
      ]
    },
    {
      "cell_type": "markdown",
      "metadata": {
        "id": "KUS_NihOI51H"
      },
      "source": [
        "## K-Nearest Neighbors"
      ]
    },
    {
      "cell_type": "code",
      "execution_count": null,
      "metadata": {
        "colab": {
          "base_uri": "https://localhost:8080/"
        },
        "id": "Gxfcu23WiKWU",
        "outputId": "d991af04-59bb-480f-c867-048f83b9e994"
      },
      "outputs": [
        {
          "name": "stdout",
          "output_type": "stream",
          "text": [
            "{'n_neighbors': 28}\n"
          ]
        }
      ],
      "source": [
        "# Ankit\n",
        "from sklearn.neighbors import KNeighborsClassifier\n",
        "from sklearn.metrics import mean_squared_error, confusion_matrix, classification_report\n",
        "\n",
        "# finding best parameters on dataframe\n",
        "df_class_x = df_class.drop('cut', axis=1)\n",
        "df_class_y = df_class['cut']\n",
        "\n",
        "# split into training and testing data, 80% training, 20% testing\n",
        "x_train, x_test, y_train, y_test = train_test_split(df_class_x, df_class_y, test_size=0.2,random_state=100)\n",
        "\n",
        "# scale data, KNN requires scaling\n",
        "scaler = StandardScaler()\n",
        "scaler.fit(x_train)\n",
        "x_train = scaler.transform(x_train)\n",
        "x_test = scaler.transform(x_test)\n",
        "\n",
        "# run GridSearch to determine best n_neighbors parameter for data\n",
        "knn = KNeighborsClassifier()\n",
        "params = {\"n_neighbors\":list(range(1,31))}\n",
        "grid = GridSearchCV(knn, params, cv=10, scoring='accuracy')\n",
        "grid_search = grid.fit(x_train, y_train)\n",
        "print(grid_search.best_params_)\n",
        "best_n = grid_search.best_params_[\"n_neighbors\"]"
      ]
    },
    {
      "cell_type": "code",
      "execution_count": null,
      "metadata": {
        "colab": {
          "base_uri": "https://localhost:8080/",
          "height": 75
        },
        "id": "JwsiF8rniND4",
        "outputId": "de16b138-f863-4d34-aa6e-5543b9a727d5"
      },
      "outputs": [
        {
          "data": {
            "text/html": [
              "<style>#sk-container-id-1 {color: black;background-color: white;}#sk-container-id-1 pre{padding: 0;}#sk-container-id-1 div.sk-toggleable {background-color: white;}#sk-container-id-1 label.sk-toggleable__label {cursor: pointer;display: block;width: 100%;margin-bottom: 0;padding: 0.3em;box-sizing: border-box;text-align: center;}#sk-container-id-1 label.sk-toggleable__label-arrow:before {content: \"▸\";float: left;margin-right: 0.25em;color: #696969;}#sk-container-id-1 label.sk-toggleable__label-arrow:hover:before {color: black;}#sk-container-id-1 div.sk-estimator:hover label.sk-toggleable__label-arrow:before {color: black;}#sk-container-id-1 div.sk-toggleable__content {max-height: 0;max-width: 0;overflow: hidden;text-align: left;background-color: #f0f8ff;}#sk-container-id-1 div.sk-toggleable__content pre {margin: 0.2em;color: black;border-radius: 0.25em;background-color: #f0f8ff;}#sk-container-id-1 input.sk-toggleable__control:checked~div.sk-toggleable__content {max-height: 200px;max-width: 100%;overflow: auto;}#sk-container-id-1 input.sk-toggleable__control:checked~label.sk-toggleable__label-arrow:before {content: \"▾\";}#sk-container-id-1 div.sk-estimator input.sk-toggleable__control:checked~label.sk-toggleable__label {background-color: #d4ebff;}#sk-container-id-1 div.sk-label input.sk-toggleable__control:checked~label.sk-toggleable__label {background-color: #d4ebff;}#sk-container-id-1 input.sk-hidden--visually {border: 0;clip: rect(1px 1px 1px 1px);clip: rect(1px, 1px, 1px, 1px);height: 1px;margin: -1px;overflow: hidden;padding: 0;position: absolute;width: 1px;}#sk-container-id-1 div.sk-estimator {font-family: monospace;background-color: #f0f8ff;border: 1px dotted black;border-radius: 0.25em;box-sizing: border-box;margin-bottom: 0.5em;}#sk-container-id-1 div.sk-estimator:hover {background-color: #d4ebff;}#sk-container-id-1 div.sk-parallel-item::after {content: \"\";width: 100%;border-bottom: 1px solid gray;flex-grow: 1;}#sk-container-id-1 div.sk-label:hover label.sk-toggleable__label {background-color: #d4ebff;}#sk-container-id-1 div.sk-serial::before {content: \"\";position: absolute;border-left: 1px solid gray;box-sizing: border-box;top: 0;bottom: 0;left: 50%;z-index: 0;}#sk-container-id-1 div.sk-serial {display: flex;flex-direction: column;align-items: center;background-color: white;padding-right: 0.2em;padding-left: 0.2em;position: relative;}#sk-container-id-1 div.sk-item {position: relative;z-index: 1;}#sk-container-id-1 div.sk-parallel {display: flex;align-items: stretch;justify-content: center;background-color: white;position: relative;}#sk-container-id-1 div.sk-item::before, #sk-container-id-1 div.sk-parallel-item::before {content: \"\";position: absolute;border-left: 1px solid gray;box-sizing: border-box;top: 0;bottom: 0;left: 50%;z-index: -1;}#sk-container-id-1 div.sk-parallel-item {display: flex;flex-direction: column;z-index: 1;position: relative;background-color: white;}#sk-container-id-1 div.sk-parallel-item:first-child::after {align-self: flex-end;width: 50%;}#sk-container-id-1 div.sk-parallel-item:last-child::after {align-self: flex-start;width: 50%;}#sk-container-id-1 div.sk-parallel-item:only-child::after {width: 0;}#sk-container-id-1 div.sk-dashed-wrapped {border: 1px dashed gray;margin: 0 0.4em 0.5em 0.4em;box-sizing: border-box;padding-bottom: 0.4em;background-color: white;}#sk-container-id-1 div.sk-label label {font-family: monospace;font-weight: bold;display: inline-block;line-height: 1.2em;}#sk-container-id-1 div.sk-label-container {text-align: center;}#sk-container-id-1 div.sk-container {/* jupyter's `normalize.less` sets `[hidden] { display: none; }` but bootstrap.min.css set `[hidden] { display: none !important; }` so we also need the `!important` here to be able to override the default hidden behavior on the sphinx rendered scikit-learn.org. See: https://github.com/scikit-learn/scikit-learn/issues/21755 */display: inline-block !important;position: relative;}#sk-container-id-1 div.sk-text-repr-fallback {display: none;}</style><div id=\"sk-container-id-1\" class=\"sk-top-container\"><div class=\"sk-text-repr-fallback\"><pre>KNeighborsClassifier(n_neighbors=28)</pre><b>In a Jupyter environment, please rerun this cell to show the HTML representation or trust the notebook. <br />On GitHub, the HTML representation is unable to render, please try loading this page with nbviewer.org.</b></div><div class=\"sk-container\" hidden><div class=\"sk-item\"><div class=\"sk-estimator sk-toggleable\"><input class=\"sk-toggleable__control sk-hidden--visually\" id=\"sk-estimator-id-1\" type=\"checkbox\" checked><label for=\"sk-estimator-id-1\" class=\"sk-toggleable__label sk-toggleable__label-arrow\">KNeighborsClassifier</label><div class=\"sk-toggleable__content\"><pre>KNeighborsClassifier(n_neighbors=28)</pre></div></div></div></div></div>"
            ],
            "text/plain": [
              "KNeighborsClassifier(n_neighbors=28)"
            ]
          },
          "execution_count": 10,
          "metadata": {},
          "output_type": "execute_result"
        }
      ],
      "source": [
        "# use best_n determined from grid search to set up classifier\n",
        "classifier = KNeighborsClassifier(n_neighbors=best_n)\n",
        "classifier.fit(x_train, y_train)"
      ]
    },
    {
      "cell_type": "code",
      "execution_count": null,
      "metadata": {
        "colab": {
          "base_uri": "https://localhost:8080/"
        },
        "id": "kvosqQIFiPIw",
        "outputId": "5f7836a8-d0fd-4042-aca8-282d43e0af10"
      },
      "outputs": [
        {
          "name": "stdout",
          "output_type": "stream",
          "text": [
            "              precision    recall  f1-score   support\n",
            "\n",
            "     b'Fair'       0.93      0.58      0.71       307\n",
            "     b'Good'       0.60      0.48      0.54       848\n",
            "    b'Ideal'       0.74      0.91      0.82      2945\n",
            "  b'Premium'       0.59      0.72      0.65      1938\n",
            "b'Very Good'       0.49      0.28      0.36      1914\n",
            "\n",
            "    accuracy                           0.65      7952\n",
            "   macro avg       0.67      0.59      0.61      7952\n",
            "weighted avg       0.64      0.65      0.63      7952\n",
            "\n",
            "[[ 178  102    1   14   12]\n",
            " [  13  408   31  127  269]\n",
            " [   1    6 2676  180   82]\n",
            " [   0   23  316 1401  198]\n",
            " [   0  138  580  658  538]]\n",
            "0.6540492957746479\n"
          ]
        }
      ],
      "source": [
        "# predict class labels\n",
        "y_pred = classifier.predict(x_test)\n",
        "# display results\n",
        "print(classification_report(y_test, y_pred))\n",
        "print(confusion_matrix(y_test, y_pred))\n",
        "print(accuracy_score(y_test, y_pred))"
      ]
    },
    {
      "cell_type": "markdown",
      "source": [
        "K-Nearest Neighbors Analysis\n",
        "\n",
        "The KNN model was a supervised classification approach to modeling the data. While all but 1 other model looked at predicting the price based on features, this model looked at predicting the cut based on features. The main parameter that was tuned was the value for k. This value was determined with the assistance of grid search. Overall, the model achieved a 65% accuracy rate at predicting cut. When taking a look at the f1-scores for individual classes in the confusion matrix above, the model’s success varied across classes. The model tends to struggle with identifying ‘Very Good’ diamonds. However, other cuts such as 'Fair' and 'Ideal' generated good f1-scores. Overall, since the data carried only 9 features used in the model, the curse of dimensionality did not play a major role in harming our model. KNN is a computationally inexpensive model that was able to accurately model the data. "
      ],
      "metadata": {
        "id": "suKYivkiM7_i"
      }
    },
    {
      "cell_type": "markdown",
      "metadata": {
        "id": "hK9sLztWIjdh"
      },
      "source": [
        "## Regression Trees Model\n",
        "\n"
      ]
    },
    {
      "cell_type": "code",
      "execution_count": null,
      "metadata": {
        "colab": {
          "base_uri": "https://localhost:8080/"
        },
        "id": "TINczuXiInTR",
        "outputId": "cd56f790-0ed7-4929-cb81-87bc3bf1f20f"
      },
      "outputs": [
        {
          "output_type": "stream",
          "name": "stdout",
          "text": [
            "Best parameters:  {'max_depth': 10, 'min_samples_leaf': 5}\n",
            "Best score:  0.9691885270051099\n"
          ]
        }
      ],
      "source": [
        "# Rayan\n",
        "from sklearn.tree import DecisionTreeRegressor\n",
        "\n",
        "# splitting features and label\n",
        "data_x = df_reg.drop('price', axis=1)\n",
        "data_y = df_reg['price']\n",
        "\n",
        "# finding best parameters on random sample of 20000 records\n",
        "sample_df = df_reg.sample(n=20000)\n",
        "sample_x = sample_df.drop('price', axis=1)\n",
        "sample_y = sample_df['price']\n",
        "\n",
        "regtree = DecisionTreeRegressor()\n",
        "params = {\"max_depth\":list(range(5,20)), \"min_samples_leaf\":list(range(5,20))}\n",
        "gs = GridSearchCV(regtree, params, cv = 5, scoring = 'r2')\n",
        "gs.fit(sample_x, sample_y)\n",
        "print(\"Best parameters: \", gs.best_params_)\n",
        "print(\"Best score: \", gs.best_score_)\n",
        "best_max_depth = gs.best_params_['max_depth']\n",
        "best_min_samples_leaf = gs.best_params_['min_samples_leaf']"
      ]
    },
    {
      "cell_type": "code",
      "execution_count": null,
      "metadata": {
        "colab": {
          "base_uri": "https://localhost:8080/"
        },
        "id": "c_cgKQ5QU1DN",
        "outputId": "c6838595-0d05-4a9b-dc67-524e3e9ab2a4"
      },
      "outputs": [
        {
          "output_type": "stream",
          "name": "stdout",
          "text": [
            "[0.96709524 0.96858568 0.97085755 0.97160039 0.97096038]\n",
            "Average score: 0.9698198494329537\n"
          ]
        }
      ],
      "source": [
        "# cross_val_score with best paramters\n",
        "best_regtree = DecisionTreeRegressor(max_depth = best_max_depth, min_samples_leaf = best_min_samples_leaf)\n",
        "scores = cross_val_score(best_regtree, data_x, data_y, cv=5, scoring='r2')\n",
        "print(scores)\n",
        "print(\"Average score:\", scores.mean())"
      ]
    },
    {
      "cell_type": "code",
      "execution_count": null,
      "metadata": {
        "colab": {
          "base_uri": "https://localhost:8080/",
          "height": 466
        },
        "id": "zRenA1-1U4A0",
        "outputId": "0bcf5508-8df3-4719-aa28-ce471e425187"
      },
      "outputs": [
        {
          "output_type": "stream",
          "name": "stdout",
          "text": [
            "0.9702076577490719\n"
          ]
        },
        {
          "output_type": "execute_result",
          "data": {
            "text/plain": [
              "<matplotlib.collections.PathCollection at 0x7f7a22378910>"
            ]
          },
          "metadata": {},
          "execution_count": 12
        },
        {
          "output_type": "display_data",
          "data": {
            "text/plain": [
              "<Figure size 640x480 with 1 Axes>"
            ],
            "image/png": "[encoded data removed]"
          },
          "metadata": {}
        }
      ],
      "source": [
        "# train test split with best parameters for plotting\n",
        "best_regtree = DecisionTreeRegressor(max_depth = best_max_depth, min_samples_leaf = best_min_samples_leaf)\n",
        "train_x, test_x, train_y, test_y = train_test_split(data_x, data_y, test_size = 0.20)\n",
        "best_regtree.fit(train_x, train_y)\n",
        "pred_y = best_regtree.predict(test_x)\n",
        "print(r2_score(test_y, pred_y))\n",
        "\n",
        "# plotting actual prices against predicted prices\n",
        "plt.scatter(test_y, pred_y, color='blue', label='Array 1')"
      ]
    },
    {
      "cell_type": "markdown",
      "metadata": {
        "id": "OBg3crA5XKtc"
      },
      "source": [
        "**Regression Tree Analysis**\n",
        "\n",
        "The Regression Tree model produced the overall best results out of any of the machine learning models we decided to implement. Initially it was performing poorly and overfitting the data, however, after using GridSearchCV to imitate the inner cross validation loop we were able to determine the best hyper-parameters to use for this model. Without limiting 'max_depth' and 'min_samples_leaf' we were letting the regression tree get too specific and allowing the validation error to increase after it hit its minimum. Moving past that we achieved an extremely high R2 score ranging around .96 - .97 after training the model with our newly found best parameters. The plot helps visualize this by plotting the predicted price against the actual price where its clear to see that the predicted price follows the actual quite closely."
      ]
    },
    {
      "cell_type": "markdown",
      "metadata": {
        "id": "ufnRYDdJIntp"
      },
      "source": [
        "## Regression Neural Net Model"
      ]
    },
    {
      "cell_type": "markdown",
      "metadata": {
        "id": "UwmktVlP1ALM"
      },
      "source": [
        "We are using the MLP Regressor Model to predict price based on the other features. The nice thing about Neural Networks is that it will zero out any attributes which don't affect the price and minimize the effect of those which have some effect.\n",
        "\n",
        "One problem with Neural Networks however is that they take a really long time, and with a data set of over 50,000 records the model does a lot more computations for not too much extra reward.\n",
        "\n",
        "Thus for this model we split the data into train and test sets using an 80-20 split. We further sampled 40% of the data which we can use to determine a good set of parameters to base the model off."
      ]
    },
    {
      "cell_type": "code",
      "execution_count": null,
      "metadata": {
        "id": "FOm6ErfJIxTE"
      },
      "outputs": [],
      "source": [
        "# Hussain\n",
        "from sklearn.neural_network import MLPRegressor\n",
        "data_x = df_reg.drop('price', axis=1)\n",
        "data_y = df_reg['price']\n",
        "X_train, X_test, y_train, y_test = train_test_split(data_x, data_y, test_size=0.2, random_state=21)\n",
        "#Below used for searching best params since neural nets take so long\n",
        "_, X_search, _, y_search = train_test_split(X_train, y_train, test_size=0.4, random_state=21)"
      ]
    },
    {
      "cell_type": "code",
      "execution_count": null,
      "metadata": {
        "colab": {
          "base_uri": "https://localhost:8080/"
        },
        "id": "j7_d2G9N0CBD",
        "outputId": "0861b5e3-dda4-432e-951f-962a00fe2b61"
      },
      "outputs": [
        {
          "name": "stdout",
          "output_type": "stream",
          "text": [
            "{'mlp__activation': 'relu', 'mlp__hidden_layer_sizes': (60,)}\n",
            "0.9230062839636013\n"
          ]
        }
      ],
      "source": [
        "nn_scaler = StandardScaler()\n",
        "mlp = MLPRegressor()\n",
        "nn_pipeline = Pipeline([('scaler', nn_scaler), ('mlp', mlp)])\n",
        "\n",
        "nn_param_grid = {\n",
        "    'mlp__hidden_layer_sizes': [(30,), (40,), (50,), (60,)],\n",
        "    'mlp__activation': ['logistic', 'tanh', 'relu']\n",
        "}\n",
        "\n",
        "nn_grid_search = GridSearchCV(nn_pipeline, nn_param_grid, cv=5, scoring='r2')\n",
        "\n",
        "nn_grid_search.fit(X_search, y_search)\n",
        "print(nn_grid_search.best_params_)\n",
        "print(nn_grid_search.best_score_)"
      ]
    },
    {
      "cell_type": "markdown",
      "metadata": {
        "id": "KDn_W-I809rK"
      },
      "source": [
        "After finding the best parameters, we use them to create a training model which we cross validate to determine how well it would perform. The cross validation score can't really be used as the final accuracy score because the data is somewhat polluted due to the grid search. It only gives us a rough estimate of what we can expect the model to be like.\n",
        "\n"
      ]
    },
    {
      "cell_type": "code",
      "execution_count": null,
      "metadata": {
        "colab": {
          "base_uri": "https://localhost:8080/"
        },
        "id": "BmII_Iwu0HJ4",
        "outputId": "9ab4b918-7468-4365-d9df-d7fa89b5bea0"
      },
      "outputs": [
        {
          "name": "stdout",
          "output_type": "stream",
          "text": [
            "Neural Network training R2 Score: 0.9226816480860613\n"
          ]
        }
      ],
      "source": [
        "best_activation = nn_grid_search.best_params_['mlp__activation']\n",
        "best_hidden_layers = nn_grid_search.best_params_['mlp__hidden_layer_sizes']\n",
        "best_mlp = MLPRegressor(activation = best_activation, hidden_layer_sizes = best_hidden_layers)\n",
        "best_nn_pipeline = Pipeline([('scaler', nn_scaler), ('mlp', best_mlp)])\n",
        "\n",
        "nn_score = cross_val_score(best_nn_pipeline, X_train, y_train, cv=5, scoring='r2')\n",
        "print(\"Neural Network training R2 Score:\", nn_score.mean())"
      ]
    },
    {
      "cell_type": "markdown",
      "metadata": {
        "id": "gfjBtya434Xw"
      },
      "source": [
        "Since we have determined that the Neural Network Regressor model works pretty well, we can test it using the test set we set out earlier to determine how well this model truly works on unseen data. Ideally we would want to wrap the entire data set into a grid search which would run inside a cross validation loop, but due to the size of the data set and limited computing power, we chose to judge the model in this manner."
      ]
    },
    {
      "cell_type": "code",
      "execution_count": null,
      "metadata": {
        "colab": {
          "base_uri": "https://localhost:8080/"
        },
        "id": "0wB9Rf8h0PmS",
        "outputId": "11ef1bdc-1f0e-456e-ad44-f0d5398d27b7"
      },
      "outputs": [
        {
          "name": "stdout",
          "output_type": "stream",
          "text": [
            "Final Neural Network r2 score: 0.9287232365647204\n"
          ]
        }
      ],
      "source": [
        "test_mlp = MLPRegressor(activation = best_activation, hidden_layer_sizes = best_hidden_layers)\n",
        "test_scaler = StandardScaler()\n",
        "test_nn_pipeline = Pipeline([('scaler', test_scaler), ('mlp', test_mlp)])\n",
        "test_nn_pipeline.fit(X_train, y_train)\n",
        "y_pred = test_nn_pipeline.predict(X_test)\n",
        "nn_regressor_r2 = r2_score(y_test, y_pred)\n",
        "print(\"Final Neural Network r2 score:\", nn_regressor_r2)"
      ]
    },
    {
      "cell_type": "markdown",
      "source": [
        "Overall, the Neural Network Regressor Model worked pretty well in predicting an approximate price based on the features given. This makes sense because we would expect there to be a pretty strong correlation between the features of the diamond and the price. Since Neural Nets update weights based on how much they affect the output, the weights of each feature are also adjusted accordingly."
      ],
      "metadata": {
        "id": "z54DJC4fJ_CN"
      }
    },
    {
      "cell_type": "markdown",
      "metadata": {
        "id": "6R7XHbZu0TuM"
      },
      "source": [
        "#Classifier Neural Network Model"
      ]
    },
    {
      "cell_type": "markdown",
      "metadata": {
        "id": "ALTycKcO5DRN"
      },
      "source": [
        "We use a Neural Network Classifier MLP model to determine cut based on the other features. Similar to the Regressor model, we split the data into training and test, and we split the training data to determine the best parameters."
      ]
    },
    {
      "cell_type": "code",
      "execution_count": null,
      "metadata": {
        "id": "9BuGUY4R0SZL"
      },
      "outputs": [],
      "source": [
        "from sklearn.neural_network import MLPClassifier\n",
        "data_class_x = df_reg.drop('cut', axis=1)\n",
        "data_class_y = df_reg['cut']\n",
        "X_train, X_test, y_train, y_test = train_test_split(data_class_x, data_class_y, test_size=0.2, random_state=21)\n",
        "#Below used for searching best params since neural nets take so long\n",
        "_, X_search, _, y_search = train_test_split(X_train, y_train, test_size=0.4, random_state=21)"
      ]
    },
    {
      "cell_type": "code",
      "execution_count": null,
      "metadata": {
        "colab": {
          "base_uri": "https://localhost:8080/"
        },
        "id": "u1EBjbah0spR",
        "outputId": "c5cb3c01-9cbd-4afd-9462-5668f5f63d42"
      },
      "outputs": [
        {
          "name": "stdout",
          "output_type": "stream",
          "text": [
            "{'mlp__activation': 'relu', 'mlp__hidden_layer_sizes': (60,)}\n",
            "0.7440644499635491\n"
          ]
        }
      ],
      "source": [
        "nn_scaler = StandardScaler()\n",
        "mlp_class = MLPClassifier()\n",
        "nn_class_pipeline = Pipeline([('scaler', nn_scaler), ('mlp', mlp_class)])\n",
        "nn_class_param_grid = {\n",
        "    'mlp__hidden_layer_sizes': [(30,), (40,), (50,), (60,)],\n",
        "    'mlp__activation': ['logistic', 'tanh', 'relu']\n",
        "}\n",
        "\n",
        "nn_class_grid_search = GridSearchCV(nn_class_pipeline, nn_class_param_grid, cv=5, scoring='accuracy')\n",
        "nn_class_grid_search.fit(X_search, y_search)\n",
        "print(nn_class_grid_search.best_params_)\n",
        "print(nn_class_grid_search.best_score_)"
      ]
    },
    {
      "cell_type": "code",
      "execution_count": null,
      "metadata": {
        "colab": {
          "base_uri": "https://localhost:8080/"
        },
        "id": "Jr5ex-2W0tU9",
        "outputId": "89cd8b4d-ed16-4c19-b639-c86b46976cba"
      },
      "outputs": [
        {
          "name": "stdout",
          "output_type": "stream",
          "text": [
            "Neural Network Trainning Accuracy: 0.751446308529077\n"
          ]
        }
      ],
      "source": [
        "best_activation = nn_class_grid_search.best_params_['mlp__activation']\n",
        "best_hidden_layers = nn_class_grid_search.best_params_['mlp__hidden_layer_sizes']\n",
        "best_mlp = MLPClassifier(activation = best_activation, hidden_layer_sizes = best_hidden_layers)\n",
        "best_nn_pipeline = Pipeline([('scaler', nn_scaler), ('mlp', best_mlp)])\n",
        "\n",
        "nn_score = cross_val_score(best_nn_pipeline, X_train, y_train, cv=5, scoring='accuracy')\n",
        "print(\"Neural Network Trainning Accuracy:\", nn_score.mean())"
      ]
    },
    {
      "cell_type": "code",
      "execution_count": null,
      "metadata": {
        "colab": {
          "base_uri": "https://localhost:8080/"
        },
        "id": "6P7Scpa-0wx2",
        "outputId": "4e69a06b-0ef7-4998-d775-d86f5e5e7cf4"
      },
      "outputs": [
        {
          "name": "stdout",
          "output_type": "stream",
          "text": [
            "Final Neural Network Accuracy: 0.7489939637826962\n"
          ]
        }
      ],
      "source": [
        "test_mlp = MLPClassifier(activation = best_activation, hidden_layer_sizes = best_hidden_layers)\n",
        "test_scaler = StandardScaler()\n",
        "test_nn_pipeline = Pipeline([('scaler', test_scaler), ('mlp', test_mlp)])\n",
        "test_nn_pipeline.fit(X_train, y_train)\n",
        "y_pred = test_nn_pipeline.predict(X_test)\n",
        "nn_classifier_accuracy = accuracy_score(y_test, y_pred)\n",
        "print(\"Final Neural Network Accuracy:\", nn_classifier_accuracy)"
      ]
    },
    {
      "cell_type": "markdown",
      "source": [
        "The Neural Network Classifier model does a modest job in predicting the cut of the diamond based on the features. We expected the model to do better than 75%, but that wasn't the case. For this dataset, the Classifier model didn't make sense for too many features, and for those where it did make sense, it didn't work too well."
      ],
      "metadata": {
        "id": "fc6X7KlLK1aK"
      }
    },
    {
      "cell_type": "markdown",
      "metadata": {
        "id": "VDf5fU4ZIxmz"
      },
      "source": [
        "## Hierarchical Clustering"
      ]
    },
    {
      "cell_type": "code",
      "execution_count": null,
      "metadata": {
        "colab": {
          "base_uri": "https://localhost:8080/"
        },
        "id": "4G941gzoI1-k",
        "outputId": "0113d2a2-b619-41af-de3e-2ff931d89cd5"
      },
      "outputs": [
        {
          "output_type": "stream",
          "name": "stdout",
          "text": [
            "cpcc_single: 0.2692404088096612\n",
            "cpcc_complete: 0.8367592112819313\n",
            "cpcc_average: 0.8314450283653989\n",
            "cpcc_centroid: 0.84741450195409\n",
            "cpcc_ward: 0.8102283590505639\n"
          ]
        }
      ],
      "source": [
        "from scipy.cluster.hierarchy import linkage, cophenet\n",
        "from scipy.spatial.distance import pdist\n",
        "\n",
        "sampled_data = df_reg.head(15000) # Google Colab crashes with records >= 15K\n",
        "clustering_single = linkage(sampled_data, 'single')\n",
        "clustering_complete = linkage(sampled_data, 'complete')\n",
        "clustering_average = linkage(sampled_data, 'average')\n",
        "clustering_centroid = linkage(sampled_data, 'centroid')\n",
        "clustering_ward = linkage(sampled_data, 'ward')\n",
        "\n",
        "proximity_matrix = pdist(sampled_data)\n",
        "\n",
        "# Printing out the scores\n",
        "cpcc_single = cophenet(clustering_single, proximity_matrix)\n",
        "print(\"cpcc_single:\", cpcc_single[0])\n",
        "cpcc_complete = cophenet(clustering_complete, proximity_matrix)\n",
        "print(\"cpcc_complete:\", cpcc_complete[0])\n",
        "cpcc_average = cophenet(clustering_average, proximity_matrix)\n",
        "print(\"cpcc_average:\", cpcc_average[0])\n",
        "cpcc_centroid = cophenet(clustering_centroid, proximity_matrix)\n",
        "print(\"cpcc_centroid:\", cpcc_centroid[0])\n",
        "cpcc_ward = cophenet(clustering_ward, proximity_matrix)\n",
        "print(\"cpcc_ward:\", cpcc_ward[0])\n",
        "\n",
        "# Here we found the centroid method as the best linkage method"
      ]
    },
    {
      "cell_type": "markdown",
      "metadata": {
        "id": "q326eoeWmkka"
      },
      "source": [
        "Plotting the dendrogram based on the best linkage method (centroid):"
      ]
    },
    {
      "cell_type": "code",
      "execution_count": null,
      "metadata": {
        "colab": {
          "base_uri": "https://localhost:8080/",
          "height": 439
        },
        "id": "f0uSEpXlm8EP",
        "outputId": "51e1d301-8caa-4f1a-ec5b-02ffe30f8848"
      },
      "outputs": [
        {
          "output_type": "display_data",
          "data": {
            "text/plain": [
              "<Figure size 640x480 with 1 Axes>"
            ],
            "image/png": "[encoded data removed]"
          },
          "metadata": {}
        }
      ],
      "source": [
        "from scipy.cluster.hierarchy import dendrogram\n",
        "\n",
        "clustering_centroid = linkage(sampled_data, \"centroid\")\n",
        "dendrogram = dendrogram(clustering_centroid)\n",
        "plt.show()"
      ]
    },
    {
      "cell_type": "markdown",
      "source": [
        "Through the dendrogram shown below, we figured that we would cluster this into k=4 clusters since the vertical gap is relatively big before the next set of clusters are merged using the centroid method."
      ],
      "metadata": {
        "id": "3UitWUMhHACz"
      }
    },
    {
      "cell_type": "markdown",
      "metadata": {
        "id": "2nhTgt0irs34"
      },
      "source": [
        "## Final Result (Conclusion)"
      ]
    },
    {
      "cell_type": "markdown",
      "metadata": {
        "id": "Dtq6hnZHrv8-"
      },
      "source": [
        "We get the following R2 scores after running various supervised learning models:\n",
        "\n",
        "- Linear Regression: 0.8309043457411013\n",
        "- Multiple Regression: 0.8956912334841372 \n",
        "- Regression Tree: 0.9734673658453226\n",
        "- Neural Network: 0.9287232365647204\n",
        "\n",
        "\n",
        "Through our supervised learning models we found that Regression Trees worked the best as they had the highest R2 score. Linear Regression came the last since increase in the price of the diamond does not grow linearly and flattens out a bit at the top due to various other features like 'cut'. \n",
        "\n",
        "For Unsupervised learning, we assessed the models based on cpcc to evaluate the accuracy. Through hierarchical clustering, we found that the data can be clustered into four groups based on 'price'.\n",
        "\n",
        "Supervised Classifier Model:\n",
        "- KNN: 0.6540492957746479\n",
        "- Neural Network Classifier: 0.7481136820925554\n",
        "\n",
        "Through this, the neural network classifier model worked best but in terms of accuracy niether model performed that well.\n",
        "\n",
        "Overall, the diamonds dataset was easy to work with across all of our models (supervised vs unsupervised) and the resulting interpretation was concise with regards to features like 'carat', 'cut', 'clarity', and 'x/y/z-fractures' contributing towards the 'price' of the diamond.\n"
      ]
    }
  ],
  "metadata": {
    "accelerator": "TPU",
    "colab": {
      "provenance": [],
      "include_colab_link": true
    },
    "gpuClass": "standard",
    "kernelspec": {
      "display_name": "Python 3",
      "name": "python3"
    },
    "language_info": {
      "name": "python"
    }
  },
  "nbformat": 4,
  "nbformat_minor": 0
}